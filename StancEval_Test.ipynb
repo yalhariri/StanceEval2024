{
 "cells": [
  {
   "cell_type": "code",
   "execution_count": 1,
   "id": "11f6d72a-7395-4760-a2d7-c72afd65fe09",
   "metadata": {},
   "outputs": [],
   "source": [
    "import pandas as pd\n",
    "from datasets import Dataset\n",
    "from transformers import AutoTokenizer\n",
    "from transformers import DataCollatorWithPadding\n",
    "import numpy as np\n",
    "from transformers import AutoModelForSequenceClassification, TrainingArguments, Trainer\n",
    "import evaluate\n",
    "accuracy = evaluate.load(\"accuracy\")\n",
    "precision = evaluate.load(\"precision\")\n",
    "recall = evaluate.load(\"recall\")\n",
    "f1 = evaluate.load(\"f1\")\n",
    "from sklearn.model_selection import train_test_split\n",
    "import shutil\n"
   ]
  },
  {
   "cell_type": "code",
   "execution_count": 2,
   "id": "3ef361e8-a98c-4cbe-a01d-8567f4185026",
   "metadata": {
    "scrolled": true
   },
   "outputs": [
    {
     "data": {
      "text/html": [
       "<div>\n",
       "<style scoped>\n",
       "    .dataframe tbody tr th:only-of-type {\n",
       "        vertical-align: middle;\n",
       "    }\n",
       "\n",
       "    .dataframe tbody tr th {\n",
       "        vertical-align: top;\n",
       "    }\n",
       "\n",
       "    .dataframe thead th {\n",
       "        text-align: right;\n",
       "    }\n",
       "</style>\n",
       "<table border=\"1\" class=\"dataframe\">\n",
       "  <thead>\n",
       "    <tr style=\"text-align: right;\">\n",
       "      <th></th>\n",
       "      <th>ID</th>\n",
       "      <th>text</th>\n",
       "      <th>target</th>\n",
       "    </tr>\n",
       "  </thead>\n",
       "  <tbody>\n",
       "    <tr>\n",
       "      <th>0</th>\n",
       "      <td>2</td>\n",
       "      <td>الوضع صار بالسعوديه يفشل لا عاد فيه شركات صاحي...</td>\n",
       "      <td>Women empowerment</td>\n",
       "    </tr>\n",
       "    <tr>\n",
       "      <th>1</th>\n",
       "      <td>5</td>\n",
       "      <td>الفساد الإداري انهك البلاد ومازلنا نعتمد عل...</td>\n",
       "      <td>Digital Transformation</td>\n",
       "    </tr>\n",
       "    <tr>\n",
       "      <th>2</th>\n",
       "      <td>14</td>\n",
       "      <td>-البي بي سي ١٠ دول اوروبية توقف تطعيم اوكسفورد...</td>\n",
       "      <td>Covid Vaccine</td>\n",
       "    </tr>\n",
       "    <tr>\n",
       "      <th>3</th>\n",
       "      <td>16</td>\n",
       "      <td>منصة مدرستي بتسرع عملية التحول للتعليم الالكتر...</td>\n",
       "      <td>Digital Transformation</td>\n",
       "    </tr>\n",
       "    <tr>\n",
       "      <th>4</th>\n",
       "      <td>17</td>\n",
       "      <td>انا مع تمكين المرأة اصلا URL</td>\n",
       "      <td>Women empowerment</td>\n",
       "    </tr>\n",
       "    <tr>\n",
       "      <th>...</th>\n",
       "      <td>...</td>\n",
       "      <td>...</td>\n",
       "      <td>...</td>\n",
       "    </tr>\n",
       "    <tr>\n",
       "      <th>614</th>\n",
       "      <td>4097</td>\n",
       "      <td>التحول الإلكتروني دا معاه مخاطر إلكترونية كبير...</td>\n",
       "      <td>Digital Transformation</td>\n",
       "    </tr>\n",
       "    <tr>\n",
       "      <th>615</th>\n",
       "      <td>4098</td>\n",
       "      <td>ريم النجم:  تطعيم كورونا راح يحولكم زومبي !</td>\n",
       "      <td>Covid Vaccine</td>\n",
       "    </tr>\n",
       "    <tr>\n",
       "      <th>616</th>\n",
       "      <td>4099</td>\n",
       "      <td>البيانات هي العنصر الرئيسي و المهم جداً في رحل...</td>\n",
       "      <td>Digital Transformation</td>\n",
       "    </tr>\n",
       "    <tr>\n",
       "      <th>617</th>\n",
       "      <td>4102</td>\n",
       "      <td>تطعيم انفلونزا مناعة مؤقته تطعيم كورونا مناعة...</td>\n",
       "      <td>Covid Vaccine</td>\n",
       "    </tr>\n",
       "    <tr>\n",
       "      <th>618</th>\n",
       "      <td>4113</td>\n",
       "      <td>وطن يضع قادته صحة جميع من على ارضه أولوية فوق ...</td>\n",
       "      <td>Covid Vaccine</td>\n",
       "    </tr>\n",
       "  </tbody>\n",
       "</table>\n",
       "<p>619 rows × 3 columns</p>\n",
       "</div>"
      ],
      "text/plain": [
       "       ID                                               text  \\\n",
       "0       2  الوضع صار بالسعوديه يفشل لا عاد فيه شركات صاحي...   \n",
       "1       5     الفساد الإداري انهك البلاد ومازلنا نعتمد عل...   \n",
       "2      14  -البي بي سي ١٠ دول اوروبية توقف تطعيم اوكسفورد...   \n",
       "3      16  منصة مدرستي بتسرع عملية التحول للتعليم الالكتر...   \n",
       "4      17                       انا مع تمكين المرأة اصلا URL   \n",
       "..    ...                                                ...   \n",
       "614  4097  التحول الإلكتروني دا معاه مخاطر إلكترونية كبير...   \n",
       "615  4098       ريم النجم:  تطعيم كورونا راح يحولكم زومبي !    \n",
       "616  4099  البيانات هي العنصر الرئيسي و المهم جداً في رحل...   \n",
       "617  4102   تطعيم انفلونزا مناعة مؤقته تطعيم كورونا مناعة...   \n",
       "618  4113  وطن يضع قادته صحة جميع من على ارضه أولوية فوق ...   \n",
       "\n",
       "                     target  \n",
       "0         Women empowerment  \n",
       "1    Digital Transformation  \n",
       "2             Covid Vaccine  \n",
       "3    Digital Transformation  \n",
       "4         Women empowerment  \n",
       "..                      ...  \n",
       "614  Digital Transformation  \n",
       "615           Covid Vaccine  \n",
       "616  Digital Transformation  \n",
       "617           Covid Vaccine  \n",
       "618           Covid Vaccine  \n",
       "\n",
       "[619 rows x 3 columns]"
      ]
     },
     "execution_count": 2,
     "metadata": {},
     "output_type": "execute_result"
    }
   ],
   "source": [
    "test_data = pd.read_csv(\"./Data/Mawqif_AllTargets_Blind Test.csv\")\n",
    "test_data = test_data.fillna(\"None\")\n",
    "test_data"
   ]
  },
  {
   "cell_type": "code",
   "execution_count": 3,
   "id": "75b4a2f3-ec31-48ec-ad5d-2921e90e9e62",
   "metadata": {
    "scrolled": true
   },
   "outputs": [],
   "source": [
    "test_set_dict = {item['ID']: item for item in test_data.to_dict(orient=\"index\").values()}"
   ]
  },
  {
   "cell_type": "code",
   "execution_count": 5,
   "id": "c70f0142-9890-406c-b0cf-92b9d97e7fc6",
   "metadata": {},
   "outputs": [],
   "source": [
    "mapper={'Women empowerment':'تمكين المرأة',\n",
    "'Covid Vaccine':'لقاح كوفيد',\n",
    "'Digital Transformation':'التحول الرقمي'}"
   ]
  },
  {
   "cell_type": "code",
   "execution_count": null,
   "id": "5f8ea9d0-c7ca-4072-827d-69252951b1d5",
   "metadata": {},
   "outputs": [],
   "source": [
    "import ollama\n",
    "from tqdm import tqdm_notebook as tqdm\n",
    "\n",
    "\n",
    "model_name = \"command-r:35b-v0.1-q8_0\"\n",
    "system_context = \"You are an expert in analysing people's opinions. You are an expert in Arabic. \\\n",
    "# You will be given an Arabic sentence as input. Your task is to identify the stance towards the topic or subject discussed in the sentence. \\\n",
    "# Your task is to identify whether the sentence is in favour of the topic, against it, or neutral. \\\n",
    "Your output should be one of the following: favour, against, or neutral. You should not provide any further information. Your answer should be in English.\"\n",
    "question = \"What is the stance in the given sentence? [favour, against, neutral].\"\n",
    "\n",
    "counter = 0\n",
    "progress_bar = tqdm(test_set_dict.keys(), desc=\"Processing\")\n",
    "for k in progress_bar:\n",
    "    text = test_set_dict[k]['text']\n",
    "    topic = test_set_dict[k]['target']\n",
    "    msg=f\"الجملة: {text}\\nالموضوع:{mapper[topic]}\\n{question}\"\n",
    "    \n",
    "    message=[{\n",
    "        'role': 'system',\n",
    "        'content':system_context},\n",
    "        {\n",
    "            'role':'user',\n",
    "            'content': msg\n",
    "        }]\n",
    "    response = ollama.chat(model=model_name, messages=message)\n",
    "    #print(response['message']['content'])\n",
    "    #print('-'*20)\n",
    "    test_set_dict[k]['label'] = response['message']['content']\n",
    "    progress_bar.update(1)\n",
    "progress_bar.close()\n",
    "\n"
   ]
  },
  {
   "cell_type": "code",
   "execution_count": null,
   "id": "33388428-f682-425c-88ad-a7b171734811",
   "metadata": {
    "scrolled": true
   },
   "outputs": [],
   "source": [
    "output_ = [\"ID\\tTarget\\tTweet\\tStance\"]\n",
    "for k in test_set_dict.keys():\n",
    "    if 'favour' in test_set_dict[k]['label'].lower():\n",
    "        label = \"favor\".upper()\n",
    "    elif 'against' in test_set_dict[k]['label'].lower():\n",
    "        label = \"against\".upper()\n",
    "    else:\n",
    "        label = \"None\".upper()\n",
    "    output_.append(f\"{test_set_dict[k]['ID']}\\t{test_set_dict[k]['target']}\\t{test_set_dict[k]['text']}\\t{label}\")\n"
   ]
  },
  {
   "cell_type": "code",
   "execution_count": null,
   "id": "94394518-13ad-453f-96ba-11b4267c03dc",
   "metadata": {},
   "outputs": [],
   "source": [
    "with open(\"output_testset_model.csv\", \"w\", encoding=\"utf-8\") as fout:\n",
    "    for line in output_:\n",
    "        fout.write(f\"{line}\\n\")"
   ]
  },
  {
   "cell_type": "code",
   "execution_count": null,
   "id": "347d2cb6-7219-41bc-90e8-2be03475e2fa",
   "metadata": {},
   "outputs": [],
   "source": []
  }
 ],
 "metadata": {
  "kernelspec": {
   "display_name": "Python 3 (ipykernel)",
   "language": "python",
   "name": "python3"
  },
  "language_info": {
   "codemirror_mode": {
    "name": "ipython",
    "version": 3
   },
   "file_extension": ".py",
   "mimetype": "text/x-python",
   "name": "python",
   "nbconvert_exporter": "python",
   "pygments_lexer": "ipython3",
   "version": "3.12.3"
  }
 },
 "nbformat": 4,
 "nbformat_minor": 5
}
